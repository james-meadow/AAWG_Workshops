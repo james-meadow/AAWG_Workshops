{
 "cells": [
  {
   "cell_type": "markdown",
   "metadata": {},
   "source": [
    "# A Brief Intro to Natural Langage Processing & Topic Modeling\n",
    "\n",
    "#### AAWG Dev Day 6/14/2019 \n",
    "\n",
    "-----------\n",
    "\n",
    "We're only going to scratch the surface with a simplified view of both concepts (NLP and LDA), but this has all of the major steps in a topic modeling workflow. \n",
    "\n",
    "First we need the normal data science packages `numpy` and `pandas`. "
   ]
  },
  {
   "cell_type": "code",
   "execution_count": 1,
   "metadata": {
    "colab": {},
    "colab_type": "code",
    "id": "qnyMkx6daz6V"
   },
   "outputs": [],
   "source": [
    "import pandas as np\n",
    "import numpy as np "
   ]
  },
  {
   "cell_type": "markdown",
   "metadata": {},
   "source": [
    "Next we can use a big text dataset of dubious provenance. The best description is in the [`sklearn` source code.](https://github.com/scikit-learn/scikit-learn/blob/7813f7efb/sklearn/datasets/twenty_newsgroups.py)\n",
    "\n",
    "We begin by splitting into train and test sets, just to illustrate that `sklearn` has already given us a clean way to do so! "
   ]
  },
  {
   "cell_type": "code",
   "execution_count": 2,
   "metadata": {
    "colab": {},
    "colab_type": "code",
    "id": "YAhCa2npaz6Z"
   },
   "outputs": [],
   "source": [
    "from sklearn.datasets import fetch_20newsgroups\n",
    "news_train = fetch_20newsgroups(subset='train', shuffle = True)\n",
    "news_test = fetch_20newsgroups(subset='test', shuffle = True)"
   ]
  },
  {
   "cell_type": "markdown",
   "metadata": {},
   "source": [
    "Check out the topics available to us in this dataset. This gives us a really nice way to draw clear topic distinctions (autos vs space, for example) or quite similar (hockey vs baseball) to optimize topic model parameters. We'll just take it all for now. "
   ]
  },
  {
   "cell_type": "code",
   "execution_count": 3,
   "metadata": {
    "colab": {
     "base_uri": "https://localhost:8080/",
     "height": 357
    },
    "colab_type": "code",
    "id": "YREPBUDYaz6b",
    "outputId": "3dd805a4-6a46-4954-d8bb-7f142a93ed1c"
   },
   "outputs": [
    {
     "name": "stdout",
     "output_type": "stream",
     "text": [
      "alt.atheism\n",
      "comp.graphics\n",
      "comp.os.ms-windows.misc\n",
      "comp.sys.ibm.pc.hardware\n",
      "comp.sys.mac.hardware\n",
      "comp.windows.x\n",
      "misc.forsale\n",
      "rec.autos\n",
      "rec.motorcycles\n",
      "rec.sport.baseball\n",
      "rec.sport.hockey\n",
      "sci.crypt\n",
      "sci.electronics\n",
      "sci.med\n",
      "sci.space\n",
      "soc.religion.christian\n",
      "talk.politics.guns\n",
      "talk.politics.mideast\n",
      "talk.politics.misc\n",
      "talk.religion.misc\n"
     ]
    }
   ],
   "source": [
    "for name in news_train.target_names: print(name)"
   ]
  },
  {
   "cell_type": "markdown",
   "metadata": {},
   "source": [
    "Each \"news\" entry is an email with lots of weird characters and issues. Perfect! Then the next step is to clean using a few very standard techniques. "
   ]
  },
  {
   "cell_type": "code",
   "execution_count": 4,
   "metadata": {
    "colab": {
     "base_uri": "https://localhost:8080/",
     "height": 54
    },
    "colab_type": "code",
    "id": "2fm09TCuaz6f",
    "outputId": "8bb4f074-1cc7-4d67-fc72-13fbd628df4f"
   },
   "outputs": [
    {
     "data": {
      "text/plain": [
       "\"From: guykuo@carson.u.washington.edu (Guy Kuo)\\nSubject: SI Clock Poll - Final Call\\nSummary: Final call for SI clock reports\\nKeywords: SI,acceleration,clock,upgrade\\nArticle-I.D.: shelley.1qvfo9INNc3s\\nOrganization: University of Washington\\nLines: 11\\nNNTP-Posting-Host: carson.u.washington.edu\\n\\nA fair number of brave souls who upgraded their SI clock oscillator have\\nshared their experiences for this poll. Please send a brief message detailing\\nyour experiences with the procedure. Top speed attained, CPU rated speed,\\nadd on cards and adapters, heat sinks, hour of usage per day, floppy disk\\nfunctionality with 800 and 1.4 m floppies are especially requested.\\n\\nI will be summarizing in the next two days, so please add to the network\\nknowledge base if you have done the clock upgrade and haven't answered this\\npoll. Thanks.\\n\\nGuy Kuo <guykuo@u.washington.edu>\\n\""
      ]
     },
     "execution_count": 4,
     "metadata": {},
     "output_type": "execute_result"
    }
   ],
   "source": [
    "news_train.data[1]"
   ]
  },
  {
   "cell_type": "markdown",
   "metadata": {},
   "source": [
    "First make a nice copy of the data. We can come back to this step every time something goes wrong. "
   ]
  },
  {
   "cell_type": "code",
   "execution_count": 5,
   "metadata": {
    "colab": {
     "base_uri": "https://localhost:8080/",
     "height": 122
    },
    "colab_type": "code",
    "id": "XwwJo9S8az6j",
    "outputId": "45397ead-624b-4a4c-eb38-f48a5979250d"
   },
   "outputs": [
    {
     "data": {
      "text/plain": [
       "\"From: guykuo@carson.u.washington.edu (Guy Kuo)\\nSubject: SI Clock Poll - Final Call\\nSummary: Final call for SI clock reports\\nKeywords: SI,acceleration,clock,upgrade\\nArticle-I.D.: shelley.1qvfo9INNc3s\\nOrganization: University of Washington\\nLines: 11\\nNNTP-Posting-Host: carson.u.washington.edu\\n\\nA fair number of brave souls who upgraded their SI clock oscillator have\\nshared their experiences for this poll. Please send a brief message detailing\\nyour experiences with the procedure. Top speed attained, CPU rated speed,\\nadd on cards and adapters, heat sinks, hour of usage per day, floppy disk\\nfunctionality with 800 and 1.4 m floppies are especially requested.\\n\\nI will be summarizing in the next two days, so please add to the network\\nknowledge base if you have done the clock upgrade and haven't answered this\\npoll. Thanks.\\n\\nGuy Kuo <guykuo@u.washington.edu>\\n\""
      ]
     },
     "execution_count": 5,
     "metadata": {},
     "output_type": "execute_result"
    }
   ],
   "source": [
    "import unicodedata \n",
    "import sys \n",
    "text = news_train.data[:1000]\n",
    "text[1]"
   ]
  },
  {
   "cell_type": "markdown",
   "metadata": {},
   "source": [
    "### Clean punctuation\n",
    "\n",
    "All of the symbols and punctuation can go. For our purpose, not very helpful. \n",
    "\n",
    "**What else is happening in here. Also crucial for NLP.**"
   ]
  },
  {
   "cell_type": "code",
   "execution_count": 7,
   "metadata": {
    "colab": {
     "base_uri": "https://localhost:8080/",
     "height": 122
    },
    "colab_type": "code",
    "id": "fpKpokTdaz6o",
    "outputId": "ae8af7cc-bbc1-4c99-a76d-7ba507955459"
   },
   "outputs": [
    {
     "data": {
      "text/plain": [
       "'from guykuocarsonuwashingtonedu guy kuo\\nsubject si clock poll  final call\\nsummary final call for si clock reports\\nkeywords siaccelerationclockupgrade\\narticleid shelley1qvfo9innc3s\\norganization university of washington\\nlines 11\\nnntppostinghost carsonuwashingtonedu\\n\\na fair number of brave souls who upgraded their si clock oscillator have\\nshared their experiences for this poll please send a brief message detailing\\nyour experiences with the procedure top speed attained cpu rated speed\\nadd on cards and adapters heat sinks hour of usage per day floppy disk\\nfunctionality with 800 and 14 m floppies are especially requested\\n\\ni will be summarizing in the next two days so please add to the network\\nknowledge base if you have done the clock upgrade and havent answered this\\npoll thanks\\n\\nguy kuo <guykuouwashingtonedu>\\n'"
      ]
     },
     "execution_count": 7,
     "metadata": {},
     "output_type": "execute_result"
    }
   ],
   "source": [
    "## Dictionary of all punctuation\n",
    "punctuation = dict.fromkeys(i for i in range(sys.maxunicode)\n",
    "                        if unicodedata.category(chr(i)).startswith('P'))\n",
    "\n",
    "## now we can remove punctuation. What else is happening here? \n",
    "text = [string.translate(punctuation).lower() for string in text]\n",
    "# text = text.lower()\n",
    "text[1]"
   ]
  },
  {
   "cell_type": "markdown",
   "metadata": {},
   "source": [
    "### Tokenize & Remove Stopwords \n",
    "\n",
    "Split up the content using white spaces. Then remove all of the words that just get in thee way. \n",
    "\n",
    "**Which stopwords are we removing below?**"
   ]
  },
  {
   "cell_type": "code",
   "execution_count": 0,
   "metadata": {
    "colab": {},
    "colab_type": "code",
    "id": "dnwQZZedaz6r"
   },
   "outputs": [],
   "source": [
    "import nltk \n",
    "from nltk.tokenize import word_tokenize \n",
    "from nltk.corpus import stopwords\n",
    "\n",
    "## You'll need to download them once before using below. \n",
    "# nltk.download('punkt')\n",
    "# nltk.download('stopwords')"
   ]
  },
  {
   "cell_type": "code",
   "execution_count": 129,
   "metadata": {
    "colab": {
     "base_uri": "https://localhost:8080/",
     "height": 357
    },
    "colab_type": "code",
    "id": "xio9TV91az6u",
    "outputId": "a36265f5-ce69-4670-d075-666e73e1d34e"
   },
   "outputs": [
    {
     "data": {
      "text/plain": [
       "['from',\n",
       " 'lerxstwamumdedu',\n",
       " 'wheres',\n",
       " 'my',\n",
       " 'thing',\n",
       " 'subject',\n",
       " 'what',\n",
       " 'car',\n",
       " 'is',\n",
       " 'this',\n",
       " 'nntppostinghost',\n",
       " 'rac3wamumdedu',\n",
       " 'organization',\n",
       " 'university',\n",
       " 'of',\n",
       " 'maryland',\n",
       " 'college',\n",
       " 'park',\n",
       " 'lines',\n",
       " '15']"
      ]
     },
     "execution_count": 129,
     "metadata": {
      "tags": []
     },
     "output_type": "execute_result"
    }
   ],
   "source": [
    "tok = [word_tokenize(t) for t in text]\n",
    "tok[0][:20]"
   ]
  },
  {
   "cell_type": "code",
   "execution_count": 130,
   "metadata": {
    "colab": {
     "base_uri": "https://localhost:8080/",
     "height": 357
    },
    "colab_type": "code",
    "id": "23cc3JNMaz6x",
    "outputId": "ce9a089e-f5a1-4393-827a-bfc50b818fec"
   },
   "outputs": [
    {
     "data": {
      "text/plain": [
       "['i',\n",
       " 'me',\n",
       " 'my',\n",
       " 'myself',\n",
       " 'we',\n",
       " 'our',\n",
       " 'ours',\n",
       " 'ourselves',\n",
       " 'you',\n",
       " \"you're\",\n",
       " \"you've\",\n",
       " \"you'll\",\n",
       " \"you'd\",\n",
       " 'your',\n",
       " 'yours',\n",
       " 'yourself',\n",
       " 'yourselves',\n",
       " 'he',\n",
       " 'him',\n",
       " 'his']"
      ]
     },
     "execution_count": 130,
     "metadata": {
      "tags": []
     },
     "output_type": "execute_result"
    }
   ],
   "source": [
    "stop_words = stopwords.words('english')\n",
    "stop_words[:20]"
   ]
  },
  {
   "cell_type": "code",
   "execution_count": 0,
   "metadata": {
    "colab": {},
    "colab_type": "code",
    "id": "aAQqEXIUaz6z"
   },
   "outputs": [],
   "source": [
    "stp = [word for word in tok if word not in stop_words]"
   ]
  },
  {
   "cell_type": "markdown",
   "metadata": {},
   "source": [
    "And now the same entry without any stopwords. "
   ]
  },
  {
   "cell_type": "code",
   "execution_count": 101,
   "metadata": {
    "colab": {
     "base_uri": "https://localhost:8080/",
     "height": 357
    },
    "colab_type": "code",
    "id": "gBuAEoLMaz61",
    "outputId": "6b3ea96c-4dd4-4df3-891c-34bb5d24a664"
   },
   "outputs": [
    {
     "data": {
      "text/plain": [
       "['from',\n",
       " 'lerxstwamumdedu',\n",
       " 'wheres',\n",
       " 'my',\n",
       " 'thing',\n",
       " 'subject',\n",
       " 'what',\n",
       " 'car',\n",
       " 'is',\n",
       " 'this',\n",
       " 'nntppostinghost',\n",
       " 'rac3wamumdedu',\n",
       " 'organization',\n",
       " 'university',\n",
       " 'of',\n",
       " 'maryland',\n",
       " 'college',\n",
       " 'park',\n",
       " 'lines',\n",
       " '15']"
      ]
     },
     "execution_count": 101,
     "metadata": {
      "tags": []
     },
     "output_type": "execute_result"
    }
   ],
   "source": [
    "stp[0][:20]"
   ]
  },
  {
   "cell_type": "markdown",
   "metadata": {},
   "source": [
    "### Stemming\n",
    "\n",
    "'Cook', 'Cooked', 'Cooking', 'Cooker' all have low statistical power separately, but share a root (or stem) meaning, and thus should be considered together for a better model. \n",
    "\n",
    "Thus Stemming is a sometimes off-putting way of getting closer to the root meaning of a word. We simply chop off the last few letters. It gets more elegant that that, but we're really just pruning most of our words to force them to group better. "
   ]
  },
  {
   "cell_type": "code",
   "execution_count": 8,
   "metadata": {
    "colab": {},
    "colab_type": "code",
    "id": "pgYV0uciaz62"
   },
   "outputs": [],
   "source": [
    "from nltk.stem.porter import PorterStemmer\n",
    "porter = PorterStemmer()"
   ]
  },
  {
   "cell_type": "code",
   "execution_count": 133,
   "metadata": {
    "colab": {
     "base_uri": "https://localhost:8080/",
     "height": 357
    },
    "colab_type": "code",
    "id": "mln475c-az64",
    "outputId": "81d743d3-32a5-4adb-a76d-63176d0a917f"
   },
   "outputs": [
    {
     "data": {
      "text/plain": [
       "['from',\n",
       " 'lerxstwamumdedu',\n",
       " 'where',\n",
       " 'my',\n",
       " 'thing',\n",
       " 'subject',\n",
       " 'what',\n",
       " 'car',\n",
       " 'is',\n",
       " 'thi',\n",
       " 'nntppostinghost',\n",
       " 'rac3wamumdedu',\n",
       " 'organ',\n",
       " 'univers',\n",
       " 'of',\n",
       " 'maryland',\n",
       " 'colleg',\n",
       " 'park',\n",
       " 'line',\n",
       " '15']"
      ]
     },
     "execution_count": 133,
     "metadata": {
      "tags": []
     },
     "output_type": "execute_result"
    }
   ],
   "source": [
    "stem = [[porter.stem(word) for word in entry] for entry in stp]\n",
    "stem[0][:20]"
   ]
  },
  {
   "cell_type": "markdown",
   "metadata": {},
   "source": [
    "Keep a clean copy as a backup. "
   ]
  },
  {
   "cell_type": "code",
   "execution_count": 0,
   "metadata": {
    "colab": {},
    "colab_type": "code",
    "id": "BAztSqrWgnFP"
   },
   "outputs": [],
   "source": [
    "processed_text = stem\n",
    "# processed_text"
   ]
  },
  {
   "cell_type": "markdown",
   "metadata": {
    "colab": {},
    "colab_type": "code",
    "id": "cuG6ZGcjaz67"
   },
   "source": [
    "### LDA Modeling \n",
    "\n",
    "And now to modeling!! pretty simple actually but it takes a minute. We'll use the popular `gensim` package, but there are certainly other options. "
   ]
  },
  {
   "cell_type": "code",
   "execution_count": 0,
   "metadata": {
    "colab": {},
    "colab_type": "code",
    "id": "vvoA8RyZaz69"
   },
   "outputs": [],
   "source": [
    "from gensim import corpora, models\n",
    "from gensim.models.coherencemodel import CoherenceModel\n",
    "import re\n",
    "import warnings"
   ]
  },
  {
   "cell_type": "markdown",
   "metadata": {},
   "source": [
    "Sanity check: how big is our dataset?"
   ]
  },
  {
   "cell_type": "code",
   "execution_count": 138,
   "metadata": {
    "colab": {
     "base_uri": "https://localhost:8080/",
     "height": 34
    },
    "colab_type": "code",
    "id": "-j7HN3VAt8CX",
    "outputId": "2d12f178-a258-4c1d-ff1d-4a51cee18621"
   },
   "outputs": [
    {
     "data": {
      "text/plain": [
       "1000"
      ]
     },
     "execution_count": 138,
     "metadata": {
      "tags": []
     },
     "output_type": "execute_result"
    }
   ],
   "source": [
    "len(processed_text)"
   ]
  },
  {
   "cell_type": "markdown",
   "metadata": {},
   "source": [
    "Create a dictionary of words in our dataset, and their counts. "
   ]
  },
  {
   "cell_type": "code",
   "execution_count": 9,
   "metadata": {
    "colab": {
     "base_uri": "https://localhost:8080/",
     "height": 357
    },
    "colab_type": "code",
    "id": "VFj7C20xjma8",
    "outputId": "6acb9b31-e9f6-48cf-d769-100dea64f4b3"
   },
   "outputs": [
    {
     "ename": "NameError",
     "evalue": "name 'corpora' is not defined",
     "output_type": "error",
     "traceback": [
      "\u001b[0;31m---------------------------------------------------------------------------\u001b[0m",
      "\u001b[0;31mNameError\u001b[0m                                 Traceback (most recent call last)",
      "\u001b[0;32m<ipython-input-9-b092932dea3f>\u001b[0m in \u001b[0;36m<module>\u001b[0;34m()\u001b[0m\n\u001b[0;32m----> 1\u001b[0;31m \u001b[0mstem_dictionary\u001b[0m \u001b[0;34m=\u001b[0m \u001b[0mcorpora\u001b[0m\u001b[0;34m.\u001b[0m\u001b[0mDictionary\u001b[0m\u001b[0;34m(\u001b[0m\u001b[0mprocessed_text\u001b[0m\u001b[0;34m)\u001b[0m\u001b[0;34m\u001b[0m\u001b[0m\n\u001b[0m\u001b[1;32m      2\u001b[0m \u001b[0mstem_corpus\u001b[0m \u001b[0;34m=\u001b[0m \u001b[0;34m[\u001b[0m\u001b[0mstem_dictionary\u001b[0m\u001b[0;34m.\u001b[0m\u001b[0mdoc2bow\u001b[0m\u001b[0;34m(\u001b[0m\u001b[0mstem\u001b[0m\u001b[0;34m)\u001b[0m \u001b[0;32mfor\u001b[0m \u001b[0mstem\u001b[0m \u001b[0;32min\u001b[0m \u001b[0mprocessed_text\u001b[0m\u001b[0;34m]\u001b[0m\u001b[0;34m\u001b[0m\u001b[0m\n\u001b[1;32m      3\u001b[0m \u001b[0mstem_corpus\u001b[0m\u001b[0;34m[\u001b[0m\u001b[0;36m0\u001b[0m\u001b[0;34m]\u001b[0m\u001b[0;34m[\u001b[0m\u001b[0;34m:\u001b[0m\u001b[0;36m20\u001b[0m\u001b[0;34m]\u001b[0m\u001b[0;34m\u001b[0m\u001b[0m\n",
      "\u001b[0;31mNameError\u001b[0m: name 'corpora' is not defined"
     ]
    }
   ],
   "source": [
    "stem_dictionary = corpora.Dictionary(processed_text)\n",
    "stem_corpus = [stem_dictionary.doc2bow(stem) for stem in processed_text]\n",
    "stem_corpus[0][:20]"
   ]
  },
  {
   "cell_type": "markdown",
   "metadata": {},
   "source": [
    "Finally, build an LDA model and harvest some evaluation information (Coherence is a metric of importance!) "
   ]
  },
  {
   "cell_type": "code",
   "execution_count": 0,
   "metadata": {
    "colab": {},
    "colab_type": "code",
    "id": "9-Y6xdd089g1"
   },
   "outputs": [],
   "source": [
    "with warnings.catch_warnings():\n",
    "  warnings.simplefilter(\"ignore\")\n",
    "\n",
    "  stem_model = models.ldamodel.LdaModel(corpus=stem_corpus, \n",
    "                                        id2word=stem_dictionary, \n",
    "                                        num_topics=2, \n",
    "                                        passes=10, \n",
    "                                        random_state = 1)\n",
    "  stem_cm = CoherenceModel(model=stem_model, \n",
    "                           texts=processed_text, \n",
    "                           dictionary=stem_dictionary, \n",
    "                           coherence='c_v')\n",
    "  stem_coherence = stem_cm.get_coherence()"
   ]
  },
  {
   "cell_type": "markdown",
   "metadata": {},
   "source": [
    "Check out this fabulous visualization for assessing and exploring your model results! "
   ]
  },
  {
   "cell_type": "code",
   "execution_count": 0,
   "metadata": {
    "colab": {},
    "colab_type": "code",
    "id": "ToJvJ2w4tGS0"
   },
   "outputs": [],
   "source": [
    "# import sys\n",
    "# !{sys.executable} -m pip install pyLDAvis\n",
    "\n",
    "import pyLDAvis\n",
    "import pyLDAvis.gensim as gensimvis"
   ]
  },
  {
   "cell_type": "code",
   "execution_count": 122,
   "metadata": {
    "colab": {
     "base_uri": "https://localhost:8080/",
     "height": 173
    },
    "colab_type": "code",
    "id": "C7J_aVFOtNQ7",
    "outputId": "569dcb5f-5faf-40fc-c95a-df99870038b3"
   },
   "outputs": [
    {
     "name": "stderr",
     "output_type": "stream",
     "text": [
      "/usr/local/lib/python3.6/dist-packages/pyLDAvis/_prepare.py:257: FutureWarning: Sorting because non-concatenation axis is not aligned. A future version\n",
      "of pandas will change to not sort by default.\n",
      "\n",
      "To accept the future behavior, pass 'sort=False'.\n",
      "\n",
      "To retain the current behavior and silence the warning, pass 'sort=True'.\n",
      "\n",
      "  return pd.concat([default_term_info] + list(topic_dfs))\n"
     ]
    }
   ],
   "source": [
    "vis_data = gensimvis.prepare(stem_model, stem_corpus, stem_dictionary)\n"
   ]
  },
  {
   "cell_type": "code",
   "execution_count": 123,
   "metadata": {
    "colab": {
     "base_uri": "https://localhost:8080/",
     "height": 881
    },
    "colab_type": "code",
    "id": "DJ5eGSv4k3gK",
    "outputId": "a9f2491a-aa3a-488d-bfc1-e23603eb62ff"
   },
   "outputs": [
    {
     "data": {
      "text/html": [
       "\n",
       "<link rel=\"stylesheet\" type=\"text/css\" href=\"https://cdn.rawgit.com/bmabey/pyLDAvis/files/ldavis.v1.0.0.css\">\n",
       "\n",
       "\n",
       "<div id=\"ldavis_el1211402243894258161667956314\"></div>\n",
       "<script type=\"text/javascript\">\n",
       "\n",
       "var ldavis_el1211402243894258161667956314_data = {\"mdsDat\": {\"x\": [0.05510910600423812, -0.05510910600423812], \"y\": [0.0, 0.0], \"topics\": [1, 2], \"cluster\": [1, 1], \"Freq\": [88.02186584472656, 11.978127479553223]}, \"tinfo\": {\"Category\": [\"Default\", \"Default\", \"Default\", \"Default\", \"Default\", \"Default\", \"Default\", \"Default\", \"Default\", \"Default\", \"Default\", \"Default\", \"Default\", \"Default\", \"Default\", \"Default\", \"Default\", \"Default\", \"Default\", \"Default\", \"Default\", \"Default\", \"Default\", \"Default\", \"Default\", \"Default\", \"Default\", \"Default\", \"Default\", \"Default\", \"Topic1\", \"Topic1\", \"Topic1\", \"Topic1\", \"Topic1\", \"Topic1\", \"Topic1\", \"Topic1\", \"Topic1\", \"Topic1\", \"Topic1\", \"Topic1\", \"Topic1\", \"Topic1\", \"Topic1\", \"Topic1\", \"Topic1\", \"Topic1\", \"Topic1\", \"Topic1\", \"Topic1\", \"Topic1\", \"Topic1\", \"Topic1\", \"Topic1\", \"Topic1\", \"Topic1\", \"Topic1\", \"Topic1\", \"Topic1\", \"Topic1\", \"Topic1\", \"Topic1\", \"Topic1\", \"Topic1\", \"Topic1\", \"Topic1\", \"Topic1\", \"Topic1\", \"Topic1\", \"Topic1\", \"Topic1\", \"Topic1\", \"Topic1\", \"Topic1\", \"Topic1\", \"Topic1\", \"Topic2\", \"Topic2\", \"Topic2\", \"Topic2\", \"Topic2\", \"Topic2\", \"Topic2\", \"Topic2\", \"Topic2\", \"Topic2\", \"Topic2\", \"Topic2\", \"Topic2\", \"Topic2\", \"Topic2\", \"Topic2\", \"Topic2\", \"Topic2\", \"Topic2\", \"Topic2\", \"Topic2\", \"Topic2\", \"Topic2\", \"Topic2\", \"Topic2\", \"Topic2\", \"Topic2\", \"Topic2\", \"Topic2\", \"Topic2\", \"Topic2\", \"Topic2\", \"Topic2\", \"Topic2\", \"Topic2\", \"Topic2\", \"Topic2\", \"Topic2\", \"Topic2\", \"Topic2\", \"Topic2\", \"Topic2\", \"Topic2\", \"Topic2\", \"Topic2\", \"Topic2\", \"Topic2\", \"Topic2\", \"Topic2\", \"Topic2\", \"Topic2\", \"Topic2\", \"Topic2\", \"Topic2\", \"Topic2\", \"Topic2\", \"Topic2\", \"Topic2\", \"Topic2\", \"Topic2\", \"Topic2\", \"Topic2\", \"Topic2\"], \"Freq\": [21.0, 18.0, 32.0, 14.0, 5.0, 97.0, 22.0, 5.0, 66.0, 30.0, 7.0, 8.0, 8.0, 5.0, 2.0, 10.0, 4.0, 3.0, 3.0, 4.0, 4.0, 5.0, 6.0, 3.0, 3.0, 3.0, 7.0, 3.0, 3.0, 10.0, 97.48946380615234, 20.151304244995117, 15.21725845336914, 11.100933074951172, 9.458614349365234, 9.455694198608398, 8.637743949890137, 8.633342742919922, 8.630895614624023, 7.81168270111084, 7.810006618499756, 7.805992126464844, 21.810911178588867, 6.992983341217041, 6.9923834800720215, 6.989999771118164, 6.988268852233887, 6.170861721038818, 6.168856143951416, 6.168553829193115, 6.166872501373291, 6.165619373321533, 5.347238063812256, 5.345829486846924, 5.345088005065918, 5.344862937927246, 5.3436689376831055, 5.343265056610107, 22.639217376708984, 4.523855209350586, 63.04400634765625, 25.93817901611328, 23.485368728637695, 28.410930633544922, 29.274824142456055, 9.478593826293945, 20.209922790527344, 11.957234382629395, 11.123363494873047, 11.122735023498535, 16.082454681396484, 17.731351852416992, 9.474018096923828, 9.472715377807617, 11.959379196166992, 9.483007431030273, 7.83475923538208, 2.128901720046997, 0.971004068851471, 0.96925950050354, 0.9685671925544739, 0.9679319858551025, 0.5827164649963379, 0.5826557874679565, 0.5825662612915039, 0.5824884176254272, 0.5824611186981201, 0.5824405550956726, 0.5824257731437683, 0.5824214816093445, 0.582361102104187, 0.5823589563369751, 0.5823390483856201, 0.5823269486427307, 0.5823172926902771, 0.5823029279708862, 0.5822935104370117, 0.5822580456733704, 0.5822442770004272, 0.582180380821228, 0.5821771621704102, 0.5821748971939087, 0.582166314125061, 0.5821526050567627, 0.5821468830108643, 0.5821383595466614, 0.5821374654769897, 2.139838218688965, 2.1336841583251953, 1.3605990409851074, 1.3605000972747803, 0.9723625183105469, 0.9700663089752197, 3.6897261142730713, 1.3651671409606934, 1.357069492340088, 2.5216057300567627, 2.1345181465148926, 2.903718948364258, 0.9751907587051392, 0.9674148559570312, 2.127284049987793, 1.3574117422103882, 3.2911903858184814, 1.3633447885513306, 1.3608918190002441, 2.143489122390747, 0.9722530841827393, 0.9714156985282898, 0.9710721969604492, 1.3579301834106445, 0.9720419645309448, 1.3567821979522705, 1.3651878833770752, 0.9778235554695129, 0.9731347560882568, 0.972518801689148, 0.971827507019043, 0.9717299342155457, 0.9714323282241821], \"Term\": [\"i\", \"thi\", \"of\", \"from\", \"wa\", \">\", \"to\", \"thank\", \"the\", \"a\", \"organ\", \"subject\", \"line\", \"univers\", \"car\", \"on\", \"pleas\", \"email\", \"icon\", \"there\", \"look\", \"my\", \"what\", \"me\", \"info\", \"out\", \"or\", \"anyon\", \"where\", \"have\", \">\", \"that\", \"with\", \"weapon\", \"scsi1\", \"as\", \"write\", \"about\", \"articl\", \"<\", \"chip\", \"board\", \"in\", \"destruct\", \"scsi\", \"are\", \"scsi2\", \"mass\", \"not\", \"an\", \"up\", \"dont\", \"which\", \"control\", \"say\", \"re\", \"doe\", \"than\", \"it\", \"right\", \"the\", \"is\", \"and\", \"a\", \"of\", \"but\", \"to\", \"be\", \"for\", \"you\", \"thi\", \"i\", \"if\", \"have\", \"from\", \"on\", \"use\", \"car\", \"win\", \"30\", \"brian\", \"treatment\", \"northern\", \"sever\", \"thanx\", \"brando\", \"made\", \"lerxst\", \"astrocytoma\", \"bmp\", \"delet\", \"chang\", \"holmes7000iscsvaxuniedu\", \"cant\", \"appreci\", \"publicli\", \"bumper\", \"rm\", \"ps\", \"sean\", \"12\", \"septemb\", \"respond\", \"10\", \"iowa\", \"bmdelanemidwayuchicagoedu\", \"bodi\", \"thank\", \"wa\", \"email\", \"icon\", \"help\", \"were\", \"i\", \"pleas\", \"univers\", \"thi\", \"from\", \"of\", \"anyon\", \"where\", \"to\", \"organ\", \"the\", \"subject\", \"line\", \"a\", \"me\", \"info\", \"out\", \"on\", \"there\", \"and\", \"is\", \"it\", \"have\", \"if\", \"look\", \"you\", \"for\"], \"Total\": [21.0, 18.0, 32.0, 14.0, 5.0, 97.0, 22.0, 5.0, 66.0, 30.0, 7.0, 8.0, 8.0, 5.0, 2.0, 10.0, 4.0, 3.0, 3.0, 4.0, 4.0, 5.0, 6.0, 3.0, 3.0, 3.0, 7.0, 3.0, 3.0, 10.0, 97.73081970214844, 20.357999801635742, 15.420592308044434, 11.303648948669434, 9.659090995788574, 9.657553672790527, 8.83696460723877, 8.834646224975586, 8.833356857299805, 8.012103080749512, 8.01121997833252, 8.009105682373047, 22.401330947875977, 7.191120147705078, 7.190804481506348, 7.189548492431641, 7.188636779785156, 6.368334770202637, 6.367278099060059, 6.367118835449219, 6.3662333488464355, 6.365572929382324, 5.544756889343262, 5.544015407562256, 5.5436248779296875, 5.543506145477295, 5.542876720428467, 5.542664527893066, 23.617040634155273, 4.721307277679443, 66.33519744873047, 27.303367614746094, 24.842151641845703, 30.554420471191406, 32.17854309082031, 10.059283256530762, 22.337207794189453, 12.923771858215332, 12.094796180725098, 12.094465255737305, 18.604061126708984, 21.421077728271484, 10.446537017822266, 10.445850372314453, 14.093896865844727, 10.840937614440918, 8.413926124572754, 2.5707919597625732, 1.3894416093826294, 1.3913837671279907, 1.392154574394226, 1.3928618431091309, 0.9982428550720215, 0.9983105659484863, 0.9984103441238403, 0.9984968900680542, 0.9985272884368896, 0.9985501766204834, 0.998566746711731, 0.9985713958740234, 0.9986386895179749, 0.9986408948898315, 0.9986633062362671, 0.9986766576766968, 0.9986873865127563, 0.9987034797668457, 0.9987140893936157, 0.9987534284591675, 0.9987687468528748, 0.9988399147987366, 0.9988434314727783, 0.9988461136817932, 0.9988555908203125, 0.9988707900047302, 0.9988772869110107, 0.9988865852355957, 0.9988877773284912, 5.029191493988037, 5.859569072723389, 3.4262354373931885, 3.4263455867767334, 2.211454391479492, 2.2140109539031982, 21.421077728271484, 4.2446746826171875, 5.077216625213623, 18.604061126708984, 14.093896865844727, 32.17854309082031, 3.0318312644958496, 3.0404889583587646, 22.337207794189453, 7.547412872314453, 66.33519744873047, 8.36433219909668, 8.367063522338867, 30.554420471191406, 3.8586275577545166, 3.859560012817383, 3.8599424362182617, 10.840937614440918, 4.682387828826904, 24.842151641845703, 27.303367614746094, 23.617040634155273, 10.445850372314453, 10.446537017822266, 4.682626724243164, 12.094465255737305, 12.094796180725098], \"loglift\": [30.0, 29.0, 28.0, 27.0, 26.0, 25.0, 24.0, 23.0, 22.0, 21.0, 20.0, 19.0, 18.0, 17.0, 16.0, 15.0, 14.0, 13.0, 12.0, 11.0, 10.0, 9.0, 8.0, 7.0, 6.0, 5.0, 4.0, 3.0, 2.0, 1.0, 0.1251000016927719, 0.11739999800920486, 0.11429999768733978, 0.10949999839067459, 0.10660000145435333, 0.10649999976158142, 0.10480000078678131, 0.10450000315904617, 0.10440000146627426, 0.1023000031709671, 0.10209999978542328, 0.10189999639987946, 0.10090000182390213, 0.09960000216960907, 0.09960000216960907, 0.09939999878406525, 0.09929999709129333, 0.09610000252723694, 0.09589999914169312, 0.09589999914169312, 0.0957999974489212, 0.09570000320672989, 0.09130000323057175, 0.09120000153779984, 0.09109999984502792, 0.09109999984502792, 0.09099999815225601, 0.0908999964594841, 0.08529999852180481, 0.08489999920129776, 0.07670000195503235, 0.0763000026345253, 0.0714000016450882, 0.05480000004172325, 0.032999999821186066, 0.06809999793767929, 0.027499999850988388, 0.04989999905228615, 0.04390000179409981, 0.043800000101327896, -0.01810000091791153, -0.061500001698732376, 0.029899999499320984, 0.02979999966919422, -0.03660000115633011, -0.006200000178068876, 0.056299999356269836, 1.933500051498413, 1.763800024986267, 1.760599970817566, 1.7592999935150146, 1.7581000328063965, 1.583799958229065, 1.5836000442504883, 1.583400011062622, 1.5830999612808228, 1.5830999612808228, 1.5829999446868896, 1.5829999446868896, 1.5829999446868896, 1.582800030708313, 1.582800030708313, 1.5827000141143799, 1.5827000141143799, 1.5827000141143799, 1.5825999975204468, 1.5825999975204468, 1.5824999809265137, 1.5824999809265137, 1.5822999477386475, 1.5822999477386475, 1.5822999477386475, 1.582200050354004, 1.582200050354004, 1.582200050354004, 1.582200050354004, 1.582200050354004, 1.2676000595092773, 1.111899971961975, 1.1986000537872314, 1.1984000205993652, 1.3004000186920166, 1.2969000339508057, 0.36329999566078186, 0.9876999855041504, 0.8026999831199646, 0.12359999865293503, 0.2345999926328659, -0.2831999957561493, 0.9878000020980835, 0.9768999814987183, -0.22930000722408295, 0.4065000116825104, -0.8813999891281128, 0.30809998512268066, 0.3059000074863434, -0.5350000262260437, 0.7436000108718872, 0.7425000071525574, 0.7421000003814697, 0.04470000043511391, 0.5498999953269958, -0.7853000164031982, -0.8736000061035156, -1.0622999668121338, -0.25130000710487366, -0.25200000405311584, 0.5497000217437744, -0.3993000090122223, -0.39969998598098755], \"logprob\": [30.0, 29.0, 28.0, 27.0, 26.0, 25.0, 24.0, 23.0, 22.0, 21.0, 20.0, 19.0, 18.0, 17.0, 16.0, 15.0, 14.0, 13.0, 12.0, 11.0, 10.0, 9.0, 8.0, 7.0, 6.0, 5.0, 4.0, 3.0, 2.0, 1.0, -2.9523000717163086, -4.528800010681152, -4.809599876403809, -5.125, -5.285099983215332, -5.285399913787842, -5.375899791717529, -5.376399993896484, -5.376699924468994, -5.476399898529053, -5.4766998291015625, -5.477200031280518, -4.4496002197265625, -5.587200164794922, -5.587200164794922, -5.587600231170654, -5.587800025939941, -5.712200164794922, -5.712500095367432, -5.712600231170654, -5.712900161743164, -5.713099956512451, -5.855500221252441, -5.8557000160217285, -5.855899810791016, -5.855899810791016, -5.856100082397461, -5.856200218200684, -4.412399768829346, -6.02269983291626, -3.388200044631958, -4.276299953460693, -4.375699996948242, -4.185299873352051, -4.155300140380859, -5.2829999923706055, -4.525899887084961, -5.0507001876831055, -5.123000144958496, -5.1230998039245605, -4.754300117492676, -4.656700134277344, -5.2835001945495605, -5.283599853515625, -5.05049991607666, -5.282599925994873, -5.473499774932861, -4.781899929046631, -5.566999912261963, -5.56879997253418, -5.569499969482422, -5.570099830627441, -6.077600002288818, -6.077700138092041, -6.077899932861328, -6.078000068664551, -6.078000068664551, -6.078100204467773, -6.078100204467773, -6.078100204467773, -6.078199863433838, -6.078199863433838, -6.0782999992370605, -6.0782999992370605, -6.0782999992370605, -6.0782999992370605, -6.0782999992370605, -6.078400135040283, -6.078400135040283, -6.078499794006348, -6.078499794006348, -6.078499794006348, -6.07859992980957, -6.07859992980957, -6.07859992980957, -6.07859992980957, -6.07859992980957, -4.776800155639648, -4.779699802398682, -5.229599952697754, -5.229700088500977, -5.5655999183654785, -5.56790018081665, -4.23199987411499, -5.22629976272583, -5.2322001457214355, -4.61269998550415, -4.779300212860107, -4.47160005569458, -5.562699794769287, -5.570700168609619, -4.782700061798096, -5.23199987411499, -4.34630012512207, -5.22760009765625, -5.229400157928467, -4.775100231170654, -5.565700054168701, -5.5665998458862305, -5.56689977645874, -5.231599807739258, -5.565899848937988, -5.232399940490723, -5.22629976272583, -5.559999942779541, -5.564799785614014, -5.565400123596191, -5.566100120544434, -5.566199779510498, -5.566500186920166]}, \"token.table\": {\"Topic\": [2, 2, 2, 1, 1, 1, 2, 1, 1, 1, 2, 1, 2, 2, 1, 1, 1, 2, 1, 2, 2, 2, 1, 2, 2, 2, 2, 1, 2, 2, 2, 2, 1, 1, 2, 1, 1, 1, 1, 2, 1, 2, 1, 2, 1, 2, 1, 2, 2, 1, 2, 1, 2, 1, 2, 1, 2, 1, 2, 2, 1, 2, 1, 2, 2, 1, 2, 1, 2, 2, 1, 1, 2, 1, 2, 2, 1, 1, 2, 1, 2, 1, 2, 1, 2, 1, 2, 1, 2, 2, 2, 1, 2, 1, 2, 1, 1, 1, 1, 2, 2, 2, 1, 2, 1, 1, 2, 2, 1, 1, 2, 1, 2, 1, 2, 1, 2, 2, 1, 2, 1, 1, 2, 1, 2, 1, 1, 2, 1, 2, 1, 2, 1, 2, 1, 1, 1, 2], \"Freq\": [1.00113046169281, 1.0011578798294067, 0.7187089920043945, 0.9984893798828125, 0.992522120475769, 0.9163976907730103, 0.06545697897672653, 1.0187164545059204, 0.9423414468765259, 0.925845742225647, 0.04025416076183319, 0.6596673130989075, 0.32983365654945374, 1.0013142824172974, 0.9736355543136597, 1.0188652276992798, 0.9319130182266235, 1.0014352798461914, 0.9285215139389038, 0.07737679034471512, 1.0011146068572998, 1.001430630683899, 0.9988631010055542, 1.0011134147644043, 1.0015053749084473, 0.7183110117912292, 1.001287579536438, 0.8946959376335144, 0.09941066056489944, 1.0013251304626465, 0.7779703736305237, 1.0013610124588013, 0.9985994696617126, 0.9018734097480774, 1.0013631582260132, 0.9734227657318115, 0.9020586609840393, 0.9425703287124634, 0.5837310552597046, 0.2918655276298523, 0.9094820618629456, 0.08268018811941147, 0.8514323830604553, 0.14190539717674255, 0.8615861535072327, 0.09573179483413696, 0.4521911144256592, 0.4521911144256592, 1.0013384819030762, 0.8402938842773438, 0.1867319643497467, 0.5837122797966003, 0.29185613989830017, 0.861529529094696, 0.09572549909353256, 0.9820845127105713, 0.044640205800533295, 0.7772907018661499, 0.2590968906879425, 1.0011240243911743, 0.9522634744644165, 0.03662551939487457, 0.9738730788230896, 0.04234230890870094, 1.0014519691467285, 0.8366137146949768, 0.11951624602079391, 0.8542214035987854, 0.21355535089969635, 1.0014748573303223, 0.942161500453949, 0.7774785161018372, 0.25915950536727905, 0.907737672328949, 0.18154753744602203, 1.0017602443695068, 0.9423179030418396, 0.9012216329574585, 0.09322983026504517, 0.8301864862442017, 0.09224294126033783, 0.8385648131370544, 0.1397607922554016, 0.7949743866920471, 0.1324957311153412, 0.7772136926651001, 0.2590712308883667, 0.7067679166793823, 0.23558931052684784, 1.0012327432632446, 1.001298189163208, 0.9019562602043152, 1.0011457204818726, 1.0590287446975708, 1.0012481212615967, 0.901936948299408, 0.9734655022621155, 0.9317647218704224, 0.9737590551376343, 1.0011614561080933, 1.0011552572250366, 1.001692295074463, 0.8368868827819824, 0.1195552721619606, 0.902093231678009, 0.5965173244476318, 0.3976782262325287, 1.0015921592712402, 0.9824147820472717, 0.9497220516204834, 0.045224860310554504, 0.8542649745941162, 0.21356624364852905, 0.8600272536277771, 0.1612551212310791, 0.8953670859336853, 0.08953670412302017, 0.7179462909698486, 0.7878332138061523, 0.19695830345153809, 0.942472517490387, 0.9508046507835388, 0.11885058134794235, 0.6826440691947937, 0.34132203459739685, 0.9731370806694031, 0.45166894793510437, 0.45166894793510437, 0.7897534370422363, 0.15795068442821503, 0.6577889323234558, 0.3288944661617279, 0.901752769947052, 0.719713568687439, 0.9727252721786499, 1.018449306488037, 0.9095069169998169, 0.08268244564533234], \"Term\": [\"10\", \"12\", \"30\", \"<\", \">\", \"a\", \"a\", \"about\", \"an\", \"and\", \"and\", \"anyon\", \"anyon\", \"appreci\", \"are\", \"articl\", \"as\", \"astrocytoma\", \"be\", \"be\", \"bmdelanemidwayuchicagoedu\", \"bmp\", \"board\", \"bodi\", \"brando\", \"brian\", \"bumper\", \"but\", \"but\", \"cant\", \"car\", \"chang\", \"chip\", \"control\", \"delet\", \"destruct\", \"doe\", \"dont\", \"email\", \"email\", \"for\", \"for\", \"from\", \"from\", \"have\", \"have\", \"help\", \"help\", \"holmes7000iscsvaxuniedu\", \"i\", \"i\", \"icon\", \"icon\", \"if\", \"if\", \"in\", \"in\", \"info\", \"info\", \"iowa\", \"is\", \"is\", \"it\", \"it\", \"lerxst\", \"line\", \"line\", \"look\", \"look\", \"made\", \"mass\", \"me\", \"me\", \"my\", \"my\", \"northern\", \"not\", \"of\", \"of\", \"on\", \"on\", \"or\", \"or\", \"organ\", \"organ\", \"out\", \"out\", \"pleas\", \"pleas\", \"ps\", \"publicli\", \"re\", \"respond\", \"right\", \"rm\", \"say\", \"scsi\", \"scsi1\", \"scsi2\", \"sean\", \"septemb\", \"sever\", \"subject\", \"subject\", \"than\", \"thank\", \"thank\", \"thanx\", \"that\", \"the\", \"the\", \"there\", \"there\", \"thi\", \"thi\", \"to\", \"to\", \"treatment\", \"univers\", \"univers\", \"up\", \"use\", \"use\", \"wa\", \"wa\", \"weapon\", \"were\", \"were\", \"what\", \"what\", \"where\", \"where\", \"which\", \"win\", \"with\", \"write\", \"you\", \"you\"]}, \"R\": 30, \"lambda.step\": 0.01, \"plot.opts\": {\"xlab\": \"PC1\", \"ylab\": \"PC2\"}, \"topic.order\": [1, 2]};\n",
       "\n",
       "function LDAvis_load_lib(url, callback){\n",
       "  var s = document.createElement('script');\n",
       "  s.src = url;\n",
       "  s.async = true;\n",
       "  s.onreadystatechange = s.onload = callback;\n",
       "  s.onerror = function(){console.warn(\"failed to load library \" + url);};\n",
       "  document.getElementsByTagName(\"head\")[0].appendChild(s);\n",
       "}\n",
       "\n",
       "if(typeof(LDAvis) !== \"undefined\"){\n",
       "   // already loaded: just create the visualization\n",
       "   !function(LDAvis){\n",
       "       new LDAvis(\"#\" + \"ldavis_el1211402243894258161667956314\", ldavis_el1211402243894258161667956314_data);\n",
       "   }(LDAvis);\n",
       "}else if(typeof define === \"function\" && define.amd){\n",
       "   // require.js is available: use it to load d3/LDAvis\n",
       "   require.config({paths: {d3: \"https://cdnjs.cloudflare.com/ajax/libs/d3/3.5.5/d3.min\"}});\n",
       "   require([\"d3\"], function(d3){\n",
       "      window.d3 = d3;\n",
       "      LDAvis_load_lib(\"https://cdn.rawgit.com/bmabey/pyLDAvis/files/ldavis.v1.0.0.js\", function(){\n",
       "        new LDAvis(\"#\" + \"ldavis_el1211402243894258161667956314\", ldavis_el1211402243894258161667956314_data);\n",
       "      });\n",
       "    });\n",
       "}else{\n",
       "    // require.js not available: dynamically load d3 & LDAvis\n",
       "    LDAvis_load_lib(\"https://cdnjs.cloudflare.com/ajax/libs/d3/3.5.5/d3.min.js\", function(){\n",
       "         LDAvis_load_lib(\"https://cdn.rawgit.com/bmabey/pyLDAvis/files/ldavis.v1.0.0.js\", function(){\n",
       "                 new LDAvis(\"#\" + \"ldavis_el1211402243894258161667956314\", ldavis_el1211402243894258161667956314_data);\n",
       "            })\n",
       "         });\n",
       "}\n",
       "</script>"
      ],
      "text/plain": [
       "<IPython.core.display.HTML object>"
      ]
     },
     "execution_count": 123,
     "metadata": {
      "tags": []
     },
     "output_type": "execute_result"
    }
   ],
   "source": [
    "pyLDAvis.display(vis_data)"
   ]
  },
  {
   "cell_type": "code",
   "execution_count": 0,
   "metadata": {
    "colab": {},
    "colab_type": "code",
    "id": "MYbvCbHTaz6_"
   },
   "outputs": [],
   "source": []
  },
  {
   "cell_type": "code",
   "execution_count": 0,
   "metadata": {
    "colab": {},
    "colab_type": "code",
    "id": "hmAuSUH4az7C"
   },
   "outputs": [],
   "source": []
  },
  {
   "cell_type": "code",
   "execution_count": 0,
   "metadata": {
    "colab": {},
    "colab_type": "code",
    "id": "c1IbFBhfaz7E"
   },
   "outputs": [],
   "source": []
  },
  {
   "cell_type": "code",
   "execution_count": 0,
   "metadata": {
    "colab": {},
    "colab_type": "code",
    "id": "iWbBrPgVaz7G"
   },
   "outputs": [],
   "source": []
  },
  {
   "cell_type": "code",
   "execution_count": 0,
   "metadata": {
    "colab": {},
    "colab_type": "code",
    "id": "HJIc1GZ_az7J"
   },
   "outputs": [],
   "source": []
  }
 ],
 "metadata": {
  "colab": {
   "collapsed_sections": [],
   "name": "AAWG_NLP.ipynb",
   "provenance": [],
   "version": "0.3.2"
  },
  "kernelspec": {
   "display_name": "Python 3",
   "language": "python",
   "name": "python3"
  },
  "language_info": {
   "codemirror_mode": {
    "name": "ipython",
    "version": 3
   },
   "file_extension": ".py",
   "mimetype": "text/x-python",
   "name": "python",
   "nbconvert_exporter": "python",
   "pygments_lexer": "ipython3",
   "version": "3.6.5"
  }
 },
 "nbformat": 4,
 "nbformat_minor": 1
}
